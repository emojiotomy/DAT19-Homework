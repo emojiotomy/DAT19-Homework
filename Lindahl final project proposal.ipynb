{
 "cells": [
  {
   "cell_type": "markdown",
   "metadata": {},
   "source": [
    "# Project Proposal for DAT19 Final Project\n",
    "## Analyzing local reviews for quality of life indicators\n",
    "### Matthew Lindahl"
   ]
  },
  {
   "cell_type": "markdown",
   "metadata": {},
   "source": [
    "I'd like to explore analyzing and interpreting quality of living in a city, using Yelp's research dataset. To start with, I will attempt to analyze city comparators in reviews, references to transit convenience and contextualizing opinions on price in reviews. I hope to find additional ways of interpreting the data on the way, with an overall focus on describing city satisfaction.\n",
    "\n"
   ]
  },
  {
   "cell_type": "code",
   "execution_count": null,
   "metadata": {
    "collapsed": true
   },
   "outputs": [],
   "source": []
  }
 ],
 "metadata": {
  "kernelspec": {
   "display_name": "Python 2",
   "language": "python",
   "name": "python2"
  },
  "language_info": {
   "codemirror_mode": {
    "name": "ipython",
    "version": 2
   },
   "file_extension": ".py",
   "mimetype": "text/x-python",
   "name": "python",
   "nbconvert_exporter": "python",
   "pygments_lexer": "ipython2",
   "version": "2.7.11"
  }
 },
 "nbformat": 4,
 "nbformat_minor": 0
}
